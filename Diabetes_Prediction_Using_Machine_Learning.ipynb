{
  "nbformat": 4,
  "nbformat_minor": 0,
  "metadata": {
    "colab": {
      "provenance": []
    },
    "kernelspec": {
      "name": "python3",
      "display_name": "Python 3"
    },
    "language_info": {
      "name": "python"
    }
  },
  "cells": [
    {
      "cell_type": "markdown",
      "source": [
        "**Project Title:**\n",
        "\n",
        "Diabetes Prediction Using Machine Learning\n",
        "\n",
        "**Project Description:**\n",
        "\n",
        "This project aims to predict the likelihood of a person developing diabetes based on various medical attributes such as age, gender, hypertension, heart disease, smoking history, body mass index (BMI), HbA1c level, and blood glucose levels. Using logistic regression as the primary machine learning algorithm, the model will classify whether a person is likely to have diabetes. The dataset is processed to handle both categorical and numerical features, with a focus on gender and smoking history requiring encoding.\n",
        "\n",
        "The project evaluates the model's performance through a confusion matrix and key classification metrics such as accuracy, precision, recall, and F1-score. Additionally, advanced visualizations like the ROC curve and a heatmap of the confusion matrix are employed to provide deeper insights into the model's performance. This project highlights the use of logistic regression in medical diagnosis and demonstrates how machine learning can support decision-making in healthcare."
      ],
      "metadata": {
        "id": "n6Vpmb8glIF9"
      }
    },
    {
      "cell_type": "code",
      "execution_count": null,
      "metadata": {
        "id": "RqNBV9Q_R75O"
      },
      "outputs": [],
      "source": [
        "pip install pandas scikit-learn numpy\n"
      ]
    },
    {
      "cell_type": "code",
      "source": [
        "print(\"Dataset preview:\")\n",
        "print(data.head())"
      ],
      "metadata": {
        "colab": {
          "base_uri": "https://localhost:8080/"
        },
        "id": "gBf-3POOhLbE",
        "outputId": "2236884d-9f59-4053-c124-66250901d33d"
      },
      "execution_count": 11,
      "outputs": [
        {
          "output_type": "stream",
          "name": "stdout",
          "text": [
            "Dataset preview:\n",
            "   gender   age  hypertension  heart_disease  smoking_history    bmi  \\\n",
            "0       0  80.0             0              1                4  25.19   \n",
            "1       0  54.0             0              0                0  27.32   \n",
            "2       1  28.0             0              0                4  27.32   \n",
            "3       0  36.0             0              0                1  23.45   \n",
            "4       1  76.0             1              1                1  20.14   \n",
            "\n",
            "   HbA1c_level  blood_glucose_level  diabetes  \n",
            "0          6.6                  140         0  \n",
            "1          6.6                   80         0  \n",
            "2          5.7                  158         0  \n",
            "3          5.0                  155         0  \n",
            "4          4.8                  155         0  \n"
          ]
        }
      ]
    },
    {
      "cell_type": "code",
      "source": [
        "print(\"\\nDataset Information:\")\n",
        "print(data.info())"
      ],
      "metadata": {
        "colab": {
          "base_uri": "https://localhost:8080/"
        },
        "id": "VeLElHRakpBE",
        "outputId": "11861e03-5598-4c39-8b45-96e2ae310a1c"
      },
      "execution_count": 12,
      "outputs": [
        {
          "output_type": "stream",
          "name": "stdout",
          "text": [
            "\n",
            "Dataset Information:\n",
            "<class 'pandas.core.frame.DataFrame'>\n",
            "RangeIndex: 100000 entries, 0 to 99999\n",
            "Data columns (total 9 columns):\n",
            " #   Column               Non-Null Count   Dtype  \n",
            "---  ------               --------------   -----  \n",
            " 0   gender               100000 non-null  int64  \n",
            " 1   age                  100000 non-null  float64\n",
            " 2   hypertension         100000 non-null  int64  \n",
            " 3   heart_disease        100000 non-null  int64  \n",
            " 4   smoking_history      100000 non-null  int64  \n",
            " 5   bmi                  100000 non-null  float64\n",
            " 6   HbA1c_level          100000 non-null  float64\n",
            " 7   blood_glucose_level  100000 non-null  int64  \n",
            " 8   diabetes             100000 non-null  int64  \n",
            "dtypes: float64(3), int64(6)\n",
            "memory usage: 6.9 MB\n",
            "None\n"
          ]
        }
      ]
    },
    {
      "cell_type": "code",
      "source": [
        "print(\"\\nDataset Description:\")\n",
        "print(data.describe())"
      ],
      "metadata": {
        "colab": {
          "base_uri": "https://localhost:8080/"
        },
        "id": "Rq38Hi4GksXQ",
        "outputId": "0ff71728-54a1-4e78-da1b-5470c4802edf"
      },
      "execution_count": 13,
      "outputs": [
        {
          "output_type": "stream",
          "name": "stdout",
          "text": [
            "\n",
            "Dataset Description:\n",
            "              gender            age  hypertension  heart_disease  \\\n",
            "count  100000.000000  100000.000000  100000.00000  100000.000000   \n",
            "mean        0.414660      41.885856       0.07485       0.039420   \n",
            "std         0.493031      22.516840       0.26315       0.194593   \n",
            "min         0.000000       0.080000       0.00000       0.000000   \n",
            "25%         0.000000      24.000000       0.00000       0.000000   \n",
            "50%         0.000000      43.000000       0.00000       0.000000   \n",
            "75%         1.000000      60.000000       0.00000       0.000000   \n",
            "max         2.000000      80.000000       1.00000       1.000000   \n",
            "\n",
            "       smoking_history            bmi    HbA1c_level  blood_glucose_level  \\\n",
            "count    100000.000000  100000.000000  100000.000000        100000.000000   \n",
            "mean          2.179650      27.320767       5.527507           138.058060   \n",
            "std           1.889659       6.636783       1.070672            40.708136   \n",
            "min           0.000000      10.010000       3.500000            80.000000   \n",
            "25%           0.000000      23.630000       4.800000           100.000000   \n",
            "50%           3.000000      27.320000       5.800000           140.000000   \n",
            "75%           4.000000      29.580000       6.200000           159.000000   \n",
            "max           5.000000      95.690000       9.000000           300.000000   \n",
            "\n",
            "            diabetes  \n",
            "count  100000.000000  \n",
            "mean        0.085000  \n",
            "std         0.278883  \n",
            "min         0.000000  \n",
            "25%         0.000000  \n",
            "50%         0.000000  \n",
            "75%         0.000000  \n",
            "max         1.000000  \n"
          ]
        }
      ]
    },
    {
      "cell_type": "code",
      "source": [
        "# Import necessary libraries\n",
        "import pandas as pd\n",
        "import numpy as np\n",
        "from sklearn.model_selection import train_test_split\n",
        "from sklearn.linear_model import LogisticRegression\n",
        "from sklearn.metrics import confusion_matrix, accuracy_score\n",
        "from sklearn.preprocessing import LabelEncoder\n",
        "\n",
        "# Load the dataset\n",
        "url = '/content/diabetes_prediction_dataset.csv'\n",
        "data = pd.read_csv(url)\n",
        "\n",
        "\n",
        "# Preprocess the categorical data using Label Encoding & Convert gender to numerical values\n",
        "label_encoder = LabelEncoder()\n",
        "data['gender'] = label_encoder.fit_transform(data['gender'])  # Male: 1, Female: 0\n",
        "data['smoking_history'] = label_encoder.fit_transform(data['smoking_history'])  # Encode smoking_history\n",
        "\n",
        "# View transformed data\n",
        "print(\"\\nTransformed dataset preview:\")\n",
        "print(data.head())\n",
        "\n"
      ],
      "metadata": {
        "colab": {
          "base_uri": "https://localhost:8080/"
        },
        "id": "iOLF1P7mjij0",
        "outputId": "93beffff-fd82-4ccf-cbd2-943558ad8e7f"
      },
      "execution_count": 14,
      "outputs": [
        {
          "output_type": "stream",
          "name": "stdout",
          "text": [
            "\n",
            "Transformed dataset preview:\n",
            "   gender   age  hypertension  heart_disease  smoking_history    bmi  \\\n",
            "0       0  80.0             0              1                4  25.19   \n",
            "1       0  54.0             0              0                0  27.32   \n",
            "2       1  28.0             0              0                4  27.32   \n",
            "3       0  36.0             0              0                1  23.45   \n",
            "4       1  76.0             1              1                1  20.14   \n",
            "\n",
            "   HbA1c_level  blood_glucose_level  diabetes  \n",
            "0          6.6                  140         0  \n",
            "1          6.6                   80         0  \n",
            "2          5.7                  158         0  \n",
            "3          5.0                  155         0  \n",
            "4          4.8                  155         0  \n"
          ]
        }
      ]
    },
    {
      "cell_type": "code",
      "source": [
        "# Features and target variables\n",
        "X = data.drop('diabetes', axis=1)  # Features\n",
        "y = data['diabetes']  # Target\n",
        "\n",
        "# Split the dataset into training and testing sets (80% train, 20% test)\n",
        "X_train, X_test, y_train, y_test = train_test_split(X, y, test_size=0.2, random_state=42)\n",
        "\n",
        "# Train the Logistic Regression model\n",
        "model = LogisticRegression(max_iter=1000)\n",
        "model.fit(X_train, y_train)\n",
        "\n",
        "# Make predictions on the test set\n",
        "y_pred = model.predict(X_test)\n",
        "\n",
        "# Calculate the confusion matrix and accuracy\n",
        "conf_matrix = confusion_matrix(y_test, y_pred)\n",
        "accuracy = accuracy_score(y_test, y_pred)\n",
        "\n",
        "# Display the results\n",
        "print(\"\\nConfusion Matrix:\")\n",
        "print(conf_matrix)\n",
        "print(f\"\\nAccuracy: {accuracy * 100:.2f}%\")"
      ],
      "metadata": {
        "colab": {
          "base_uri": "https://localhost:8080/"
        },
        "id": "etcmLshAlnYz",
        "outputId": "e846af05-917a-463c-fd66-92ac394082ac"
      },
      "execution_count": 16,
      "outputs": [
        {
          "output_type": "stream",
          "name": "stdout",
          "text": [
            "\n",
            "Confusion Matrix:\n",
            "[[18127   165]\n",
            " [  661  1047]]\n",
            "\n",
            "Accuracy: 95.87%\n"
          ]
        }
      ]
    },
    {
      "cell_type": "code",
      "source": [
        "pip install seaborn matplotlib\n"
      ],
      "metadata": {
        "id": "YcJiO0Apj9F-"
      },
      "execution_count": null,
      "outputs": []
    },
    {
      "cell_type": "code",
      "source": [
        "import seaborn as sns\n",
        "import matplotlib.pyplot as plt\n",
        "from sklearn.metrics import ConfusionMatrixDisplay\n",
        "\n",
        "def plot_confusion_matrix(conf_matrix):\n",
        "    plt.figure(figsize=(8, 6))\n",
        "    sns.heatmap(conf_matrix, annot=True, fmt='d', cmap='Blues', cbar=False)\n",
        "    plt.title(\"Confusion Matrix\")\n",
        "    plt.ylabel(\"True Label\")\n",
        "    plt.xlabel(\"Predicted Label\")\n",
        "    plt.show()\n",
        "\n",
        "plot_confusion_matrix(conf_matrix)"
      ],
      "metadata": {
        "colab": {
          "base_uri": "https://localhost:8080/",
          "height": 564
        },
        "id": "3z7AVPzVkDcM",
        "outputId": "ce21f034-6f27-40ae-c560-896a9bb634f3"
      },
      "execution_count": 17,
      "outputs": [
        {
          "output_type": "display_data",
          "data": {
            "text/plain": [
              "<Figure size 800x600 with 1 Axes>"
            ],
            "image/png": "[encoded data removed]"
          },
          "metadata": {}
        }
      ]
    },
    {
      "cell_type": "code",
      "source": [
        "from sklearn.metrics import roc_curve, auc\n",
        "\n",
        "# Generate probabilities for ROC curve\n",
        "y_prob = model.predict_proba(X_test)[:, 1]\n",
        "\n",
        "# Compute ROC curve and ROC area\n",
        "fpr, tpr, thresholds = roc_curve(y_test, y_prob)\n",
        "roc_auc = auc(fpr, tpr)\n",
        "\n",
        "# Draw Plot ROC Curve\n",
        "plt.figure(figsize=(8, 6))\n",
        "plt.plot(fpr, tpr, color='blue', label=f'ROC Curve (area = {roc_auc:.2f})')\n",
        "plt.plot([0, 1], [0, 1], color='gray', linestyle='--')\n",
        "plt.xlim([0.0, 1.0])\n",
        "plt.ylim([0.0, 1.05])\n",
        "plt.xlabel('False Positive Rate')\n",
        "plt.ylabel('True Positive Rate')\n",
        "plt.title('Receiver Operating Characteristic (ROC) Curve')\n",
        "plt.legend(loc=\"lower right\")\n",
        "plt.show()"
      ],
      "metadata": {
        "colab": {
          "base_uri": "https://localhost:8080/",
          "height": 564
        },
        "id": "83R9mujOkMXz",
        "outputId": "3e6c3ba3-a75c-43b6-a7ba-297498328bb3"
      },
      "execution_count": 18,
      "outputs": [
        {
          "output_type": "display_data",
          "data": {
            "text/plain": [
              "<Figure size 800x600 with 1 Axes>"
            ],
            "image/png": "[encoded data removed]"
          },
          "metadata": {}
        }
      ]
    },
    {
      "cell_type": "code",
      "source": [
        "from sklearn.metrics import classification_report\n",
        "\n",
        "# Generate classification report\n",
        "class_report = classification_report(y_test, y_pred)\n",
        "\n",
        "print(\"\\nClassification Report:\")\n",
        "print(class_report)"
      ],
      "metadata": {
        "colab": {
          "base_uri": "https://localhost:8080/"
        },
        "id": "yb2oS6LjkSeR",
        "outputId": "d034fbf3-03a9-42a3-8ee1-e6726b745c87"
      },
      "execution_count": 19,
      "outputs": [
        {
          "output_type": "stream",
          "name": "stdout",
          "text": [
            "\n",
            "Classification Report:\n",
            "              precision    recall  f1-score   support\n",
            "\n",
            "           0       0.96      0.99      0.98     18292\n",
            "           1       0.86      0.61      0.72      1708\n",
            "\n",
            "    accuracy                           0.96     20000\n",
            "   macro avg       0.91      0.80      0.85     20000\n",
            "weighted avg       0.96      0.96      0.96     20000\n",
            "\n"
          ]
        }
      ]
    }
  ]
}